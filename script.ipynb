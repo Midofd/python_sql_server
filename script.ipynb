{
 "cells": [
  {
   "cell_type": "markdown",
   "metadata": {},
   "source": [
    "# Importing library"
   ]
  },
  {
   "cell_type": "code",
   "execution_count": 1,
   "metadata": {},
   "outputs": [],
   "source": [
    "import pandas as pd\n",
    "from ast import literal_eval\n",
    "import subprocess\n",
    "import pyodbc"
   ]
  },
  {
   "cell_type": "markdown",
   "metadata": {},
   "source": [
    "# Diviser et préparer les fichiers pour la compatibilité des tables de base de données"
   ]
  },
  {
   "cell_type": "code",
   "execution_count": 101,
   "metadata": {},
   "outputs": [],
   "source": [
    "df=pd.read_csv('cleaned_github_data.csv')\n",
    "df['project_date']=pd.to_datetime(df['project_date']).dt.date\n",
    "df.drop(columns=['Unnamed: 0'],inplace=True)"
   ]
  },
  {
   "cell_type": "markdown",
   "metadata": {},
   "source": [
    "## Technology"
   ]
  },
  {
   "cell_type": "code",
   "execution_count": 3,
   "metadata": {},
   "outputs": [],
   "source": [
    "technology=list(df.groupby('technology')['technology'].unique().keys())\n",
    "df_technology=pd.DataFrame(technology,columns=['technology'])\n",
    "df_technology.index += 1\n",
    "df_technology.to_csv('data/technology.csv')"
   ]
  },
  {
   "cell_type": "markdown",
   "metadata": {},
   "source": [
    "## Repository"
   ]
  },
  {
   "cell_type": "code",
   "execution_count": 4,
   "metadata": {},
   "outputs": [],
   "source": [
    "df_repo=df[['project_date','name']]\n",
    "df_repo.index+=1\n",
    "df_repo.to_csv('data/repository.csv')"
   ]
  },
  {
   "cell_type": "markdown",
   "metadata": {},
   "source": [
    "## Licence"
   ]
  },
  {
   "cell_type": "code",
   "execution_count": 5,
   "metadata": {},
   "outputs": [],
   "source": [
    "licence=list(df.groupby('licence')['licence'].unique().keys())\n",
    "df_licence=pd.DataFrame(licence,columns=['licence'])\n",
    "df_licence.index+=1\n",
    "df_licence.to_csv('data/licence.csv')"
   ]
  },
  {
   "cell_type": "markdown",
   "metadata": {},
   "source": [
    "## Owner"
   ]
  },
  {
   "cell_type": "code",
   "execution_count": 6,
   "metadata": {},
   "outputs": [],
   "source": [
    "owner=list(df.groupby('owner')['owner'].unique().keys())\n",
    "df_owner=pd.DataFrame(owner,columns=['owner'])\n",
    "df_owner.index+=1\n",
    "df_owner.to_csv('data/owner.csv')"
   ]
  },
  {
   "cell_type": "markdown",
   "metadata": {},
   "source": [
    "## Topics"
   ]
  },
  {
   "cell_type": "code",
   "execution_count": 69,
   "metadata": {},
   "outputs": [],
   "source": [
    "from ast import literal_eval\n",
    "\n",
    "topics=[]\n",
    "for index,value in df['topics'].items():\n",
    "    for topic in literal_eval(value):\n",
    "        if(topic!='No topics'):\n",
    "         topics.append(topic)\n",
    "\n",
    "#remove duplicated from list\n",
    "topics=list(dict.fromkeys(topics))"
   ]
  },
  {
   "cell_type": "code",
   "execution_count": 70,
   "metadata": {},
   "outputs": [],
   "source": [
    "df_topic=pd.DataFrame(topics,columns=['topic'])\n",
    "df_topic.index+=1\n",
    "df_topic.to_csv('data/topics.csv')"
   ]
  },
  {
   "cell_type": "markdown",
   "metadata": {},
   "source": [
    "## Contributor"
   ]
  },
  {
   "cell_type": "code",
   "execution_count": 9,
   "metadata": {},
   "outputs": [],
   "source": [
    "df=pd.read_csv('Contributor.csv')\n",
    "contributor=df.groupby('contributor')['contributor'].unique()\n",
    "df_contributor=pd.DataFrame(contributor.keys(),columns=['contributor'])\n",
    "df_contributor.index+=1\n",
    "df_contributor.to_csv('data/contributor.csv')"
   ]
  },
  {
   "cell_type": "markdown",
   "metadata": {},
   "source": [
    "## Commit"
   ]
  },
  {
   "cell_type": "code",
   "execution_count": 10,
   "metadata": {},
   "outputs": [],
   "source": [
    "df_commit=pd.read_csv('contributor.csv')\n",
    "\n",
    "def con_id(con):\n",
    "   #get the id of contributor based on index\n",
    "   return df_contributor.index[df_contributor['contributor']==con][0]\n",
    "\n",
    "def repo_id(repo):\n",
    "   #get the id of repository based on index \n",
    "   return df_repo.index[df_repo['name']==repo][0]\n",
    "\n",
    "df_commit['contributor']=df_commit['contributor'].apply(con_id)\n",
    "df_commit['name']=df_commit['name'].apply(repo_id)\n"
   ]
  },
  {
   "cell_type": "code",
   "execution_count": 19,
   "metadata": {},
   "outputs": [],
   "source": [
    "df_commit.rename(columns={'name':'id_repository','contributor':'id_contributor','commit':'Count'},inplace=True)\n",
    "df.drop_duplicates(inplace=True)\n",
    "df_commit.to_csv('data/commit.csv',index=False)"
   ]
  },
  {
   "cell_type": "markdown",
   "metadata": {},
   "source": [
    "## Affected_topic"
   ]
  },
  {
   "cell_type": "code",
   "execution_count": 64,
   "metadata": {},
   "outputs": [],
   "source": [
    "df_customised_tp=df.drop(df.loc[df['topics']==\"['No topics']\"].index)\n",
    "df_customised_tp.reset_index(inplace=True)\n",
    "df_customised_tp.drop(columns=['Unnamed: 0','index'],inplace=True)"
   ]
  },
  {
   "cell_type": "code",
   "execution_count": 83,
   "metadata": {},
   "outputs": [],
   "source": [
    "def topic_id(topic):\n",
    "   #get the id of topic based on index \n",
    "   return df_topic.index[df_topic['topic']==topic][0]\n",
    "\n",
    "affected_topic=[]\n",
    "#loop on dataframe\n",
    "for i in range(len(df_customised_tp)):\n",
    "    #Get the index of repo\n",
    "    rp_id=repo_id(df_customised_tp.loc[i, \"name\"])\n",
    "    #Get the index for each topic in list\n",
    "    for topic in literal_eval(df_customised_tp.loc[i, \"topics\"]):\n",
    "        #['repo_id','topic_id']\n",
    "        affected_topic.append([rp_id,topic_id(topic)])"
   ]
  },
  {
   "cell_type": "code",
   "execution_count": 84,
   "metadata": {},
   "outputs": [],
   "source": [
    "df_affected_topic=pd.DataFrame(affected_topic,columns=['repo_id','topic_id'])\n",
    "df_affected_topic.drop_duplicates(inplace=True)\n",
    "df_affected_topic.to_csv('data/affected_topic.csv',index=False)"
   ]
  },
  {
   "cell_type": "markdown",
   "metadata": {},
   "source": [
    "## Repository_details"
   ]
  },
  {
   "cell_type": "code",
   "execution_count": 117,
   "metadata": {},
   "outputs": [],
   "source": [
    "df_repo_details=df.drop(columns=['name','project_date','topics'],axis=1)\n",
    "df_repo_details.index+=1"
   ]
  },
  {
   "cell_type": "code",
   "execution_count": 121,
   "metadata": {},
   "outputs": [],
   "source": [
    "def technology_id(technology):\n",
    "   #get the id of topic based on index \n",
    "   return df_technology.index[df_technology['technology']==technology][0]\n",
    "\n",
    "def owner_id(owner):\n",
    "   #get the id of topic based on index \n",
    "   return df_owner.index[df_owner['owner']==owner][0]\n",
    "\n",
    "def licence_id(licence):\n",
    "   #get the id of topic based on index \n",
    "   return df_licence.index[df_licence['licence']==licence][0]\n",
    "\n",
    "\n",
    "df_repo_details['technology']=df_repo_details['technology'].apply(technology_id)\n",
    "\n",
    "df_repo_details['owner']=df_repo_details['owner'].apply(owner_id)\n",
    "\n",
    "df_repo_details['licence']=df_repo_details['licence'].apply(licence_id)"
   ]
  },
  {
   "cell_type": "code",
   "execution_count": 123,
   "metadata": {},
   "outputs": [],
   "source": [
    "df_repo_details.to_csv('data/repo_details.csv')"
   ]
  },
  {
   "cell_type": "markdown",
   "metadata": {},
   "source": [
    "# Insertion dans la base de données"
   ]
  },
  {
   "cell_type": "code",
   "execution_count": 2,
   "metadata": {},
   "outputs": [],
   "source": [
    "cnxn_str=\"DRIVER={Sql Server};SERVER=ELMEHDI;DATABASE=luisi\"\n",
    "cnxn = pyodbc.connect(cnxn_str, autocommit=True)"
   ]
  },
  {
   "cell_type": "markdown",
   "metadata": {},
   "source": [
    "## Creation des tableau & Indexing columns"
   ]
  },
  {
   "cell_type": "code",
   "execution_count": 3,
   "metadata": {},
   "outputs": [
    {
     "data": {
      "text/plain": [
       "<pyodbc.Cursor at 0x21bfdc05930>"
      ]
     },
     "execution_count": 3,
     "metadata": {},
     "output_type": "execute_result"
    }
   ],
   "source": [
    "with open('DatabaseCreation.sql', 'r') as f:\n",
    "    data = f.read()\n",
    "cursor = cnxn.cursor()\n",
    "cursor.execute(data)"
   ]
  },
  {
   "cell_type": "markdown",
   "metadata": {},
   "source": [
    "## function to insert data"
   ]
  },
  {
   "cell_type": "code",
   "execution_count": 15,
   "metadata": {},
   "outputs": [],
   "source": [
    "def bulk_insert(file_path, db_table_name):\n",
    "    query= f\"bulk insert {db_table_name} from '{file_path}' with (FIRSTROW=2,FORMAT='CSV')\"\n",
    "    cursor = cnxn.cursor()\n",
    "    cursor.execute(query)"
   ]
  },
  {
   "cell_type": "markdown",
   "metadata": {},
   "source": [
    "## Repository"
   ]
  },
  {
   "cell_type": "code",
   "execution_count": null,
   "metadata": {},
   "outputs": [],
   "source": [
    "bulk_insert(r'ENTER CSV FILE PATH','repository')"
   ]
  },
  {
   "cell_type": "markdown",
   "metadata": {},
   "source": [
    "## licence"
   ]
  },
  {
   "cell_type": "code",
   "execution_count": null,
   "metadata": {},
   "outputs": [],
   "source": [
    "bulk_insert(r'ENTER CSV FILE PATH','licence')"
   ]
  },
  {
   "cell_type": "markdown",
   "metadata": {},
   "source": [
    "## Owner"
   ]
  },
  {
   "cell_type": "code",
   "execution_count": 5,
   "metadata": {},
   "outputs": [
    {
     "data": {
      "text/plain": [
       "<pyodbc.Cursor at 0x2b4ff216eb0>"
      ]
     },
     "execution_count": 5,
     "metadata": {},
     "output_type": "execute_result"
    }
   ],
   "source": [
    "bulk_insert(r'ENTER CSV FILE PATH','[owner]')"
   ]
  },
  {
   "cell_type": "markdown",
   "metadata": {},
   "source": [
    "## Technology"
   ]
  },
  {
   "cell_type": "code",
   "execution_count": 6,
   "metadata": {},
   "outputs": [
    {
     "data": {
      "text/plain": [
       "<pyodbc.Cursor at 0x2b4ff2176b0>"
      ]
     },
     "execution_count": 6,
     "metadata": {},
     "output_type": "execute_result"
    }
   ],
   "source": [
    "bulk_insert(r'ENTER CSV FILE PATH','technology')"
   ]
  },
  {
   "cell_type": "markdown",
   "metadata": {},
   "source": [
    "## topics"
   ]
  },
  {
   "cell_type": "code",
   "execution_count": 7,
   "metadata": {},
   "outputs": [
    {
     "data": {
      "text/plain": [
       "<pyodbc.Cursor at 0x2b4ff216db0>"
      ]
     },
     "execution_count": 7,
     "metadata": {},
     "output_type": "execute_result"
    }
   ],
   "source": [
    "bulk_insert(r'ENTER CSV FILE PATH','technology')"
   ]
  },
  {
   "cell_type": "markdown",
   "metadata": {},
   "source": [
    "## Contributor"
   ]
  },
  {
   "cell_type": "code",
   "execution_count": 8,
   "metadata": {},
   "outputs": [
    {
     "data": {
      "text/plain": [
       "<pyodbc.Cursor at 0x2b4ff2863b0>"
      ]
     },
     "execution_count": 8,
     "metadata": {},
     "output_type": "execute_result"
    }
   ],
   "source": [
    "bulk_insert(r'ENTER CSV FILE PATH','contributor')"
   ]
  },
  {
   "cell_type": "markdown",
   "metadata": {},
   "source": [
    "## repo_details"
   ]
  },
  {
   "cell_type": "code",
   "execution_count": 17,
   "metadata": {},
   "outputs": [
    {
     "data": {
      "text/plain": [
       "<pyodbc.Cursor at 0x2b4ff2e1d30>"
      ]
     },
     "execution_count": 17,
     "metadata": {},
     "output_type": "execute_result"
    }
   ],
   "source": [
    "bulk_insert(r'ENTER CSV FILE PATH','repository_details')"
   ]
  },
  {
   "cell_type": "markdown",
   "metadata": {},
   "source": [
    "## affected_topic"
   ]
  },
  {
   "cell_type": "code",
   "execution_count": null,
   "metadata": {},
   "outputs": [],
   "source": [
    "bulk_insert(r'ENTER CSV FILE PATH','affected_topic')"
   ]
  },
  {
   "cell_type": "markdown",
   "metadata": {},
   "source": [
    "## Commit"
   ]
  },
  {
   "cell_type": "code",
   "execution_count": 53,
   "metadata": {},
   "outputs": [
    {
     "data": {
      "text/plain": [
       "<pyodbc.Cursor at 0x2b48f2e6cb0>"
      ]
     },
     "execution_count": 53,
     "metadata": {},
     "output_type": "execute_result"
    }
   ],
   "source": [
    "bulk_insert(r'ENTER CSV FILE PATH','[commit]')"
   ]
  },
  {
   "cell_type": "markdown",
   "metadata": {},
   "source": [
    "## Close connection"
   ]
  },
  {
   "cell_type": "code",
   "execution_count": 59,
   "metadata": {},
   "outputs": [],
   "source": [
    "# Close the cursor and the connection\n",
    "cursor.close()\n",
    "cnxn.close()"
   ]
  },
  {
   "cell_type": "markdown",
   "metadata": {},
   "source": [
    "# Evaluation des donnes"
   ]
  },
  {
   "cell_type": "markdown",
   "metadata": {},
   "source": [
    "## Export large data using BCP command"
   ]
  },
  {
   "cell_type": "code",
   "execution_count": null,
   "metadata": {},
   "outputs": [],
   "source": [
    "# Define the BCP command as a list of arguments\n",
    "bcp_command = [\n",
    "    \"bcp\",\n",
    "    \"github.dbo.repository\",\n",
    "    \"out\",\n",
    "    \"C:\\\\Users\\\\Youcode\\\\Desktop\\\\repository.csv\",\n",
    "    \"-c\",\n",
    "    \"-T\",\n",
    "    \"-t\",\n",
    "    \"'.\"\n",
    "]\n",
    "\n",
    "path_to_run = \"C:\\\\Program Files (x86)\\\\Microsoft SQL Server\\\\160\\\\Tools\\\\Binn\"\n",
    "\n",
    "try:\n",
    "    # Execute the BCP command\n",
    "    subprocess.run(bcp_command, check=True, cwd=path_to_run)\n",
    "    print(\"Data exported successfully.\")\n",
    "except subprocess.CalledProcessError as e:\n",
    "    print(f\"Error occurred: {e}\")"
   ]
  },
  {
   "cell_type": "markdown",
   "metadata": {},
   "source": [
    "## Fetch and convert data to Dataframe"
   ]
  },
  {
   "cell_type": "code",
   "execution_count": 74,
   "metadata": {},
   "outputs": [],
   "source": [
    "#list of repository that build by C#\n",
    "query_one=\"select (select [name] from repository where id=r.id_repository) as 'Repository name' from github.dbo.repository_details as r inner join technology as t on r.id_technology=t.id where t.name='C#'\"\n",
    "\n",
    "#Contributor that have total commit upper then 10\n",
    "query_two=\"select con.username from contributor as con inner join [commit] as com on con.id=com.id_contributor where com.[count]<10\"\n",
    "\n",
    "#Project that published in 2023 May\n",
    "query_three=\"select * from repository as r where DATEDIFF(MONTH,r.[date],'2023-05-31')<1\""
   ]
  },
  {
   "cell_type": "code",
   "execution_count": null,
   "metadata": {},
   "outputs": [],
   "source": [
    "#Establish a connection to the SQL Server database\n",
    "connection_string = f'DRIVER=SQL Server;SERVER=ELMEHDI;DATABASE=github'\n",
    "connection = pyodbc.connect(connection_string)\n",
    "\n",
    "try:\n",
    "    #Fetch data from the database into a Pandas DataFrame\n",
    "    dataframe = pd.read_sql(query_one, connection)\n",
    "except Exception as e:\n",
    "    print(f\"An error occurred: {e}\")\n",
    "finally:\n",
    "    #Close the database connection\n",
    "    connection.close()"
   ]
  },
  {
   "cell_type": "code",
   "execution_count": 81,
   "metadata": {},
   "outputs": [
    {
     "data": {
      "text/html": [
       "<div>\n",
       "<style scoped>\n",
       "    .dataframe tbody tr th:only-of-type {\n",
       "        vertical-align: middle;\n",
       "    }\n",
       "\n",
       "    .dataframe tbody tr th {\n",
       "        vertical-align: top;\n",
       "    }\n",
       "\n",
       "    .dataframe thead th {\n",
       "        text-align: right;\n",
       "    }\n",
       "</style>\n",
       "<table border=\"1\" class=\"dataframe\">\n",
       "  <thead>\n",
       "    <tr style=\"text-align: right;\">\n",
       "      <th></th>\n",
       "      <th>Repository name</th>\n",
       "    </tr>\n",
       "  </thead>\n",
       "  <tbody>\n",
       "    <tr>\n",
       "      <th>0</th>\n",
       "      <td>SonySemiconductorSolutions/tof-ar-samples-basic</td>\n",
       "    </tr>\n",
       "    <tr>\n",
       "      <th>1</th>\n",
       "      <td>zixing131/ddddocrsharp</td>\n",
       "    </tr>\n",
       "    <tr>\n",
       "      <th>2</th>\n",
       "      <td>meaf75/GitNity</td>\n",
       "    </tr>\n",
       "    <tr>\n",
       "      <th>3</th>\n",
       "      <td>seixaserick/dotnet-webapi-playground</td>\n",
       "    </tr>\n",
       "    <tr>\n",
       "      <th>4</th>\n",
       "      <td>clod81/loader_process_hollow_copy_in_chunk</td>\n",
       "    </tr>\n",
       "    <tr>\n",
       "      <th>...</th>\n",
       "      <td>...</td>\n",
       "    </tr>\n",
       "    <tr>\n",
       "      <th>9790</th>\n",
       "      <td>MarcusKyung/RecipeBox2.Solution</td>\n",
       "    </tr>\n",
       "    <tr>\n",
       "      <th>9791</th>\n",
       "      <td>bbaoqaq/wowsCheaterViewer</td>\n",
       "    </tr>\n",
       "    <tr>\n",
       "      <th>9792</th>\n",
       "      <td>executeautomation/CSharpFeatures</td>\n",
       "    </tr>\n",
       "    <tr>\n",
       "      <th>9793</th>\n",
       "      <td>prasanthsasikumar/TalkToGPT</td>\n",
       "    </tr>\n",
       "    <tr>\n",
       "      <th>9794</th>\n",
       "      <td>manoharmeena123/Versioning_C-</td>\n",
       "    </tr>\n",
       "  </tbody>\n",
       "</table>\n",
       "<p>9795 rows × 1 columns</p>\n",
       "</div>"
      ],
      "text/plain": [
       "                                      Repository name\n",
       "0     SonySemiconductorSolutions/tof-ar-samples-basic\n",
       "1                              zixing131/ddddocrsharp\n",
       "2                                      meaf75/GitNity\n",
       "3                seixaserick/dotnet-webapi-playground\n",
       "4          clod81/loader_process_hollow_copy_in_chunk\n",
       "...                                               ...\n",
       "9790                  MarcusKyung/RecipeBox2.Solution\n",
       "9791                        bbaoqaq/wowsCheaterViewer\n",
       "9792                 executeautomation/CSharpFeatures\n",
       "9793                      prasanthsasikumar/TalkToGPT\n",
       "9794                    manoharmeena123/Versioning_C-\n",
       "\n",
       "[9795 rows x 1 columns]"
      ]
     },
     "execution_count": 81,
     "metadata": {},
     "output_type": "execute_result"
    }
   ],
   "source": [
    "dataframe"
   ]
  }
 ],
 "metadata": {
  "kernelspec": {
   "display_name": "Python 3",
   "language": "python",
   "name": "python3"
  },
  "language_info": {
   "codemirror_mode": {
    "name": "ipython",
    "version": 3
   },
   "file_extension": ".py",
   "mimetype": "text/x-python",
   "name": "python",
   "nbconvert_exporter": "python",
   "pygments_lexer": "ipython3",
   "version": "3.11.4"
  },
  "orig_nbformat": 4
 },
 "nbformat": 4,
 "nbformat_minor": 2
}
